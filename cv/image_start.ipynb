{
 "cells": [
  {
   "cell_type": "code",
   "id": "initial_id",
   "metadata": {
    "collapsed": true,
    "ExecuteTime": {
     "end_time": "2025-08-26T12:43:12.877003Z",
     "start_time": "2025-08-26T12:43:11.871765Z"
    }
   },
   "source": [
    "import cv2  # opencv读取图片的默认的格式是BGR的格式\n",
    "import numpy as np\n",
    "import matplotlib.pyplot as plt"
   ],
   "outputs": [],
   "execution_count": 3
  },
  {
   "metadata": {
    "ExecuteTime": {
     "end_time": "2025-08-26T12:43:15.143751Z",
     "start_time": "2025-08-26T12:43:12.878008Z"
    }
   },
   "cell_type": "code",
   "source": "! pip install matplotlib",
   "id": "bc2f9321c21c643d",
   "outputs": [
    {
     "name": "stdout",
     "output_type": "stream",
     "text": [
      "Requirement already satisfied: matplotlib in e:\\program\\anaconda\\envs\\langchain\\lib\\site-packages (3.10.0)\n",
      "Requirement already satisfied: contourpy>=1.0.1 in e:\\program\\anaconda\\envs\\langchain\\lib\\site-packages (from matplotlib) (1.3.1)\n",
      "Requirement already satisfied: cycler>=0.10 in e:\\program\\anaconda\\envs\\langchain\\lib\\site-packages (from matplotlib) (0.11.0)\n",
      "Requirement already satisfied: fonttools>=4.22.0 in e:\\program\\anaconda\\envs\\langchain\\lib\\site-packages (from matplotlib) (4.55.3)\n",
      "Requirement already satisfied: kiwisolver>=1.3.1 in e:\\program\\anaconda\\envs\\langchain\\lib\\site-packages (from matplotlib) (1.4.8)\n",
      "Requirement already satisfied: numpy>=1.23 in e:\\program\\anaconda\\envs\\langchain\\lib\\site-packages (from matplotlib) (1.26.4)\n",
      "Requirement already satisfied: packaging>=20.0 in e:\\program\\anaconda\\envs\\langchain\\lib\\site-packages (from matplotlib) (23.2)\n",
      "Requirement already satisfied: pillow>=8 in e:\\program\\anaconda\\envs\\langchain\\lib\\site-packages (from matplotlib) (11.1.0)\n",
      "Requirement already satisfied: pyparsing>=2.3.1 in e:\\program\\anaconda\\envs\\langchain\\lib\\site-packages (from matplotlib) (3.2.0)\n",
      "Requirement already satisfied: python-dateutil>=2.7 in e:\\program\\anaconda\\envs\\langchain\\lib\\site-packages (from matplotlib) (2.9.0.post0)\n",
      "Requirement already satisfied: six>=1.5 in e:\\program\\anaconda\\envs\\langchain\\lib\\site-packages (from python-dateutil>=2.7->matplotlib) (1.16.0)\n"
     ]
    }
   ],
   "execution_count": 4
  },
  {
   "metadata": {
    "ExecuteTime": {
     "end_time": "2025-08-26T12:43:15.156713Z",
     "start_time": "2025-08-26T12:43:15.144255Z"
    }
   },
   "cell_type": "code",
   "source": "img  =  cv2.imread('cat.jpg')",
   "id": "4a34a75b2699ddd9",
   "outputs": [],
   "execution_count": 5
  },
  {
   "metadata": {
    "ExecuteTime": {
     "end_time": "2025-08-26T12:43:37.470046Z",
     "start_time": "2025-08-26T12:43:15.158719Z"
    }
   },
   "cell_type": "code",
   "source": [
    "cv2.imshow('img',img)\n",
    "cv2.waitKey(0)\n",
    "cv2.destroyAllWindows()"
   ],
   "id": "82db8fb29ad5bde2",
   "outputs": [],
   "execution_count": 6
  },
  {
   "metadata": {
    "ExecuteTime": {
     "end_time": "2025-08-26T12:43:37.474556Z",
     "start_time": "2025-08-26T12:43:37.471051Z"
    }
   },
   "cell_type": "code",
   "source": [
    "# 可以直接封装成一个函数\n",
    "\n",
    "def cv_show(name,img):\n",
    "    cv2.imshow(name,img)\n",
    "    cv2.waitKey(0)\n",
    "    cv2.destroyAllWindows()"
   ],
   "id": "5ea715b6b4a5ecff",
   "outputs": [],
   "execution_count": 7
  },
  {
   "metadata": {
    "ExecuteTime": {
     "end_time": "2025-08-26T12:43:37.482278Z",
     "start_time": "2025-08-26T12:43:37.475561Z"
    }
   },
   "cell_type": "code",
   "source": "img.shape",
   "id": "cacde32cd2f97e67",
   "outputs": [
    {
     "data": {
      "text/plain": [
       "(573, 860, 3)"
      ]
     },
     "execution_count": 8,
     "metadata": {},
     "output_type": "execute_result"
    }
   ],
   "execution_count": 8
  },
  {
   "metadata": {
    "ExecuteTime": {
     "end_time": "2025-08-26T12:43:37.492683Z",
     "start_time": "2025-08-26T12:43:37.483795Z"
    }
   },
   "cell_type": "code",
   "source": [
    "# 以灰度图像来读\n",
    "img = cv2.imread('cat.jpg',cv2.IMREAD_GRAYSCALE)\n",
    "img"
   ],
   "id": "81396aa500722da1",
   "outputs": [
    {
     "data": {
      "text/plain": [
       "array([[254, 254, 255, ..., 254, 254, 254],\n",
       "       [254, 254, 255, ..., 254, 254, 254],\n",
       "       [254, 254, 255, ..., 254, 254, 254],\n",
       "       ...,\n",
       "       [246, 246, 246, ..., 247, 248, 248],\n",
       "       [246, 246, 246, ..., 248, 248, 249],\n",
       "       [247, 246, 246, ..., 248, 249, 249]], dtype=uint8)"
      ]
     },
     "execution_count": 9,
     "metadata": {},
     "output_type": "execute_result"
    }
   ],
   "execution_count": 9
  },
  {
   "metadata": {
    "ExecuteTime": {
     "end_time": "2025-08-26T12:43:37.498170Z",
     "start_time": "2025-08-26T12:43:37.493689Z"
    }
   },
   "cell_type": "code",
   "source": "img.shape",
   "id": "c36e01f7b2908329",
   "outputs": [
    {
     "data": {
      "text/plain": [
       "(573, 860)"
      ]
     },
     "execution_count": 10,
     "metadata": {},
     "output_type": "execute_result"
    }
   ],
   "execution_count": 10
  },
  {
   "metadata": {
    "ExecuteTime": {
     "end_time": "2025-08-26T12:44:00.646238Z",
     "start_time": "2025-08-26T12:43:59.005149Z"
    }
   },
   "cell_type": "code",
   "source": [
    "cv2.imshow('img',img)\n",
    "cv2.waitKey(0)\n",
    "cv2.destroyAllWindows()"
   ],
   "id": "8fa66f4845bcdfb8",
   "outputs": [],
   "execution_count": 11
  },
  {
   "metadata": {
    "ExecuteTime": {
     "end_time": "2025-08-26T12:44:25.478410Z",
     "start_time": "2025-08-26T12:44:25.471842Z"
    }
   },
   "cell_type": "code",
   "source": [
    "# b保存\n",
    "cv2.imwrite('mycat.jpg',img)"
   ],
   "id": "6185d421bba3fb7f",
   "outputs": [
    {
     "data": {
      "text/plain": [
       "True"
      ]
     },
     "execution_count": 12,
     "metadata": {},
     "output_type": "execute_result"
    }
   ],
   "execution_count": 12
  },
  {
   "metadata": {
    "ExecuteTime": {
     "end_time": "2025-08-26T12:44:51.153911Z",
     "start_time": "2025-08-26T12:44:51.149392Z"
    }
   },
   "cell_type": "code",
   "source": "type(img)",
   "id": "34092da9181b863a",
   "outputs": [
    {
     "data": {
      "text/plain": [
       "numpy.ndarray"
      ]
     },
     "execution_count": 14,
     "metadata": {},
     "output_type": "execute_result"
    }
   ],
   "execution_count": 14
  },
  {
   "metadata": {},
   "cell_type": "code",
   "outputs": [],
   "execution_count": null,
   "source": [
    "# 读取视频\n",
    "vc = cv2.VideoC"
   ],
   "id": "ba2fa5a229e86f43"
  }
 ],
 "metadata": {
  "kernelspec": {
   "display_name": "Python 3",
   "language": "python",
   "name": "python3"
  },
  "language_info": {
   "codemirror_mode": {
    "name": "ipython",
    "version": 2
   },
   "file_extension": ".py",
   "mimetype": "text/x-python",
   "name": "python",
   "nbconvert_exporter": "python",
   "pygments_lexer": "ipython2",
   "version": "2.7.6"
  }
 },
 "nbformat": 4,
 "nbformat_minor": 5
}
